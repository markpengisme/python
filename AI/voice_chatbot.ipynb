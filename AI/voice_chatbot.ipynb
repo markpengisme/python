{
 "cells": [
  {
   "cell_type": "markdown",
   "metadata": {},
   "source": [
    "pkg\n",
    "\n",
    "- pip install chatterbot\n",
    "- pip chatterbot-corpus\n",
    "- python -m spacy download en\n",
    "- pip install translate\n",
    "- pip install gTTS\n",
    "- pip install pygame\n",
    "- pip install SpeechRecognition\n",
    "- brew install portaudio\n",
    "- pip install PyAudio"
   ]
  },
  {
   "cell_type": "code",
   "execution_count": 1,
   "metadata": {},
   "outputs": [],
   "source": [
    "from chatterbot import ChatBot\n",
    "# python -m spacy download en\n",
    "bot = ChatBot('Mark')"
   ]
  },
  {
   "cell_type": "code",
   "execution_count": 2,
   "metadata": {},
   "outputs": [
    {
     "name": "stdout",
     "output_type": "stream",
     "text": [
      "Training ai.yml: [####################] 100%\n",
      "Training botprofile.yml: [####################] 100%\n",
      "Training conversations.yml: [####################] 100%\n",
      "Training emotion.yml: [####################] 100%\n",
      "Training food.yml: [####################] 100%\n",
      "Training gossip.yml: [####################] 100%\n",
      "Training greetings.yml: [####################] 100%\n",
      "Training history.yml: [####################] 100%\n",
      "Training humor.yml: [####################] 100%\n",
      "Training literature.yml: [####################] 100%\n",
      "Training money.yml: [####################] 100%\n",
      "Training movies.yml: [####################] 100%\n",
      "Training politics.yml: [####################] 100%\n",
      "Training psychology.yml: [####################] 100%\n",
      "Training science.yml: [####################] 100%\n",
      "Training sports.yml: [####################] 100%\n",
      "Training trivia.yml: [####################] 100%\n"
     ]
    }
   ],
   "source": [
    "# train chinese\n",
    "from chatterbot.trainers import ChatterBotCorpusTrainer\n",
    "trainer = ChatterBotCorpusTrainer(bot)\n",
    "trainer.train(\"chatterbot.corpus.tchinese\")"
   ]
  },
  {
   "cell_type": "code",
   "execution_count": 3,
   "metadata": {},
   "outputs": [
    {
     "data": {
      "text/plain": [
       "<Statement text:Hi>"
      ]
     },
     "execution_count": 3,
     "metadata": {},
     "output_type": "execute_result"
    }
   ],
   "source": [
    "bot.get_response(\"你好\")"
   ]
  },
  {
   "cell_type": "code",
   "execution_count": 4,
   "metadata": {},
   "outputs": [
    {
     "name": "stdout",
     "output_type": "stream",
     "text": [
      "List Trainer: [####################] 100%\n",
      "List Trainer: [####################] 100%\n"
     ]
    }
   ],
   "source": [
    "## customize train\n",
    "from chatterbot.trainers import ListTrainer\n",
    "trainer=ListTrainer(bot)\n",
    "trainer.train([\"今天天氣如何\",\"今天是晴天\"])\n",
    "trainer.train([\"降雨機率\",\"100%\"])"
   ]
  },
  {
   "cell_type": "code",
   "execution_count": 5,
   "metadata": {},
   "outputs": [
    {
     "name": "stdout",
     "output_type": "stream",
     "text": [
      "今天是晴天\n",
      "100%\n"
     ]
    }
   ],
   "source": [
    "print(bot.get_response(\"今天天氣如何\"))\n",
    "print(bot.get_response(\"降雨機率\"))"
   ]
  },
  {
   "cell_type": "code",
   "execution_count": 6,
   "metadata": {},
   "outputs": [
    {
     "data": {
      "text/plain": [
       "'Tests'"
      ]
     },
     "execution_count": 6,
     "metadata": {},
     "output_type": "execute_result"
    }
   ],
   "source": [
    "## translator\n",
    "import translate\n",
    "\n",
    "def translate_zh2en(text):\n",
    "    translator = translate.Translator(from_lang='zh-tw', to_lang='en')\n",
    "    result = translator.translate(text)\n",
    "    return result\n",
    "translate_zh2en(\"測試\")"
   ]
  },
  {
   "cell_type": "code",
   "execution_count": 8,
   "metadata": {},
   "outputs": [],
   "source": [
    "## Text2Speach\n",
    "from gtts import gTTS\n",
    "from pygame import mixer\n",
    "import time\n",
    "\n",
    "def tts(text, lang='zh-TW'):\n",
    "    speach = gTTS(text, lang=lang)\n",
    "    speach.save(\"speach.mp3\")\n",
    "    mixer.init()\n",
    "    time.sleep(1)\n",
    "    mixer.music.load(\"speach.mp3\")\n",
    "    time.sleep(5)\n",
    "    mixer.music.play()\n",
    "    \n",
    "tts(\"你好\")"
   ]
  },
  {
   "cell_type": "code",
   "execution_count": 9,
   "metadata": {},
   "outputs": [
    {
     "data": {
      "text/plain": [
       "'你好'"
      ]
     },
     "execution_count": 9,
     "metadata": {},
     "output_type": "execute_result"
    }
   ],
   "source": [
    "import speech_recognition as sp\n",
    "\n",
    "def listen():\n",
    "    recongnizer = sp.Recognizer()\n",
    "    with sp.Microphone() as source:\n",
    "        recongnizer.adjust_for_ambient_noise(source)\n",
    "        speach = recongnizer.listen(source)\n",
    "        transcript = recongnizer.recognize_google(speach, language='zh-TW')\n",
    "        return transcript\n",
    "listen()"
   ]
  },
  {
   "cell_type": "code",
   "execution_count": 10,
   "metadata": {},
   "outputs": [],
   "source": [
    "## Combine(speack zh -> bot response -> speach )\n",
    "import time\n",
    "\n",
    "def voice_chatbot():\n",
    "    transcript = listen()\n",
    "    print(\"問題:{}\".format(transcript))\n",
    "    print(\"翻譯:{}\".format(translate_zh2en(transcript)))\n",
    "    res = bot.get_response(transcript)\n",
    "    print(\"回答:{}\".format(res.text))\n",
    "    print(\"翻譯:{}\".format(translate_zh2en(res.text)))\n",
    "    tts(res.text)"
   ]
  },
  {
   "cell_type": "code",
   "execution_count": 11,
   "metadata": {},
   "outputs": [
    {
     "name": "stdout",
     "output_type": "stream",
     "text": [
      "問題:降雨機率\n",
      "翻譯:Precipitation rate\n",
      "回答:100%\n",
      "翻譯:100%\n"
     ]
    }
   ],
   "source": [
    "voice_chatbot()"
   ]
  },
  {
   "cell_type": "code",
   "execution_count": 12,
   "metadata": {},
   "outputs": [
    {
     "name": "stdout",
     "output_type": "stream",
     "text": [
      "問題:今天天氣如何\n",
      "翻譯:how is the weather today\n",
      "回答:今天是晴天\n",
      "翻譯:It's sunny today\n"
     ]
    }
   ],
   "source": [
    "voice_chatbot()"
   ]
  },
  {
   "cell_type": "code",
   "execution_count": null,
   "metadata": {},
   "outputs": [],
   "source": []
  }
 ],
 "metadata": {
  "kernelspec": {
   "display_name": "Python 3",
   "language": "python",
   "name": "python3"
  },
  "language_info": {
   "codemirror_mode": {
    "name": "ipython",
    "version": 3
   },
   "file_extension": ".py",
   "mimetype": "text/x-python",
   "name": "python",
   "nbconvert_exporter": "python",
   "pygments_lexer": "ipython3",
   "version": "3.7.4"
  }
 },
 "nbformat": 4,
 "nbformat_minor": 2
}
